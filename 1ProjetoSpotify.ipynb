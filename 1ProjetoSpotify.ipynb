{
  "nbformat": 4,
  "nbformat_minor": 0,
  "metadata": {
    "colab": {
      "name": "1ProjetoSpotify.ipynb",
      "provenance": [],
      "collapsed_sections": []
    },
    "kernelspec": {
      "display_name": "Python 3",
      "language": "python",
      "name": "python3"
    },
    "language_info": {
      "codemirror_mode": {
        "name": "ipython",
        "version": 3
      },
      "file_extension": ".py",
      "mimetype": "text/x-python",
      "name": "python",
      "nbconvert_exporter": "python",
      "pygments_lexer": "ipython3",
      "version": "3.8.3"
    }
  },
  "cells": [
    {
      "cell_type": "code",
      "metadata": {
        "id": "tyMFsHd2fTN0"
      },
      "source": [
        "## PROJETO SPOTIFY ##\n",
        "\n",
        "## Criando tabelas pelo Jupyter Notebbok (utlizando Python) para inserção no banco de dados MySQL.\n",
        "## Acessando banco de dados pelo MySQL WorkBench\n",
        "\n",
        "## Imersão Data Engineering [QODA]\n",
        "\n",
        "##26/01/2021\n"
      ],
      "execution_count": null,
      "outputs": []
    },
    {
      "cell_type": "code",
      "metadata": {
        "id": "EOLMSHt2fTOF",
        "outputId": "6bd1efea-2745-4a04-f1db-d6fd152cac10"
      },
      "source": [
        "\n",
        "# Instalando a biblioteca\n",
        "\n",
        "!python -m pip install mysql-connector-python"
      ],
      "execution_count": null,
      "outputs": [
        {
          "output_type": "stream",
          "text": [
            "Requirement already satisfied: mysql-connector-python in c:\\anaconda\\lib\\site-packages (8.0.23)\n",
            "Requirement already satisfied: protobuf>=3.0.0 in c:\\anaconda\\lib\\site-packages (from mysql-connector-python) (3.14.0)\n",
            "Requirement already satisfied: six>=1.9 in c:\\anaconda\\lib\\site-packages (from protobuf>=3.0.0->mysql-connector-python) (1.15.0)\n"
          ],
          "name": "stdout"
        }
      ]
    },
    {
      "cell_type": "code",
      "metadata": {
        "id": "sEkZyVJdfTOK"
      },
      "source": [
        "\n",
        "# Importe a biblioteca pra verificar se está tudo ok\n",
        "\n",
        "import mysql.connector"
      ],
      "execution_count": null,
      "outputs": []
    },
    {
      "cell_type": "code",
      "metadata": {
        "id": "4WgWTacbfTOM",
        "outputId": "ef12846f-5d55-4e96-f1c2-8705ddc9631d"
      },
      "source": [
        "\n",
        "## Criando conexão com banco de dados\n",
        "\n",
        "import mysql.connector\n",
        "\n",
        "mydb = mysql.connector.connect(\n",
        "  host=\"localhost\",\n",
        "  user=\"root\",\n",
        "  password=\"1234\"\n",
        ")\n",
        "\n",
        "print(mydb)"
      ],
      "execution_count": null,
      "outputs": [
        {
          "output_type": "stream",
          "text": [
            "<mysql.connector.connection_cext.CMySQLConnection object at 0x00000000054AD1C0>\n"
          ],
          "name": "stdout"
        }
      ]
    },
    {
      "cell_type": "code",
      "metadata": {
        "id": "3aShOo1jfTOZ"
      },
      "source": [
        "\n",
        "## Criando database\n",
        "\n",
        "import mysql.connector\n",
        "\n",
        "mydb = mysql.connector.connect(\n",
        "  host=\"localhost\",\n",
        "  user=\"root\",\n",
        "  password=\"1234\"\n",
        ")\n",
        "\n",
        "mycursor = mydb.cursor()\n",
        "\n",
        "mycursor.execute(\"CREATE DATABASE spotify\") # QUERY SQL!"
      ],
      "execution_count": null,
      "outputs": []
    },
    {
      "cell_type": "code",
      "metadata": {
        "id": "GncCUYsOfTOd",
        "outputId": "2a814464-e8ab-42b7-aa94-d645bf6f2966"
      },
      "source": [
        "\n",
        "##checando existência do database\n",
        "\n",
        "import mysql.connector\n",
        "\n",
        "mydb = mysql.connector.connect(\n",
        "  host=\"localhost\",\n",
        "  user=\"root\",\n",
        "  password=\"1234\"\n",
        ")\n",
        "\n",
        "mycursor = mydb.cursor()\n",
        "\n",
        "mycursor.execute(\"SHOW DATABASES\") # QUERY SQL\n",
        "\n",
        "for x in mycursor:\n",
        "  print(x)"
      ],
      "execution_count": null,
      "outputs": [
        {
          "output_type": "stream",
          "text": [
            "('information_schema',)\n",
            "('mysql',)\n",
            "('performance_schema',)\n",
            "('spotify',)\n",
            "('sys',)\n"
          ],
          "name": "stdout"
        }
      ]
    },
    {
      "cell_type": "code",
      "metadata": {
        "id": "ZA4wgAJVfTOu"
      },
      "source": [
        "\n",
        "\n",
        "\n",
        "\n",
        "# CRIAR TABELA CLIENTES/customers\n",
        "\n",
        "import mysql.connector\n",
        "\n",
        "mydb = mysql.connector.connect(\n",
        "  host=\"localhost\",\n",
        "  user=\"root\",\n",
        "  password=\"1234\",\n",
        "  database=\"spotify\"\n",
        ")\n",
        "\n",
        "mycursor = mydb.cursor()\n",
        "\n",
        "mycursor.execute(\"CREATE TABLE customers (name VARCHAR(255), address VARCHAR(255))\") # QUERY SQL\n"
      ],
      "execution_count": null,
      "outputs": []
    },
    {
      "cell_type": "code",
      "metadata": {
        "id": "gfZAYek_fTOw"
      },
      "source": [
        "\n",
        "\n",
        "##inserindo primary key em tabela já criada\n",
        "\n",
        "import mysql.connector\n",
        "\n",
        "mydb = mysql.connector.connect(\n",
        "  host=\"localhost\",\n",
        "  user=\"root\",\n",
        "  password=\"1234\",\n",
        "  database=\"spotify\"\n",
        ")\n",
        "\n",
        "mycursor = mydb.cursor()\n",
        "\n",
        "mycursor.execute(\"ALTER TABLE customers ADD COLUMN customer_id INT AUTO_INCREMENT PRIMARY KEY\")"
      ],
      "execution_count": null,
      "outputs": []
    },
    {
      "cell_type": "code",
      "metadata": {
        "id": "SNkA18SlfTOy"
      },
      "source": [
        "\n",
        "####"
      ],
      "execution_count": null,
      "outputs": []
    },
    {
      "cell_type": "code",
      "metadata": {
        "id": "FcLdqT9-fTO0"
      },
      "source": [
        "\n",
        "\n",
        "# CRIAR TABELA EMPREGADOS/employees\n",
        "\n",
        "import mysql.connector\n",
        "\n",
        "mydb = mysql.connector.connect(\n",
        "   host=\"localhost\",\n",
        "  user=\"root\",\n",
        "  password=\"1234\",\n",
        "  database=\"spotify\"\n",
        ")\n",
        "\n",
        "mycursor = mydb.cursor()\n",
        "\n",
        "mycursor.execute(\"CREATE TABLE employees (name VARCHAR(255), address VARCHAR(255))\") # QUERY SQL\n"
      ],
      "execution_count": null,
      "outputs": []
    },
    {
      "cell_type": "code",
      "metadata": {
        "id": "Qop2MKe0fTO3"
      },
      "source": [
        "\n",
        "\n",
        "##inserindo primary key em tabela já criada\n",
        "\n",
        "import mysql.connector\n",
        "\n",
        "mydb = mysql.connector.connect(\n",
        "  host=\"localhost\",\n",
        "  user=\"root\",\n",
        "  password=\"1234\",\n",
        "  database=\"spotify\"\n",
        ")\n",
        "\n",
        "mycursor = mydb.cursor()\n",
        "\n",
        "mycursor.execute(\"ALTER TABLE employees ADD COLUMN employee_id INT AUTO_INCREMENT PRIMARY KEY\")"
      ],
      "execution_count": null,
      "outputs": []
    },
    {
      "cell_type": "code",
      "metadata": {
        "id": "i-SDsSwEfTO4"
      },
      "source": [
        "\n",
        "\n",
        "###"
      ],
      "execution_count": null,
      "outputs": []
    },
    {
      "cell_type": "code",
      "metadata": {
        "id": "pWb4KCq1834j"
      },
      "source": [
        "\n",
        "\n",
        "# CRIAR TABELA ARTISTAS/artists\n",
        "\n",
        "\n",
        "import mysql.connector\n",
        "\n",
        "mydb = mysql.connector.connect(\n",
        "   host=\"localhost\",\n",
        "  user=\"root\",\n",
        "  password=\"1234\",\n",
        "  database=\"spotify\"\n",
        ")\n",
        "\n",
        "mycursor = mydb.cursor()\n",
        "\n",
        "mycursor.execute(\"CREATE TABLE artists (artist_id INT AUTO_INCREMENT PRIMARY KEY, artist_name VARCHAR(255), biography VARCHAR(255))\") # QUERY SQL\n"
      ],
      "execution_count": null,
      "outputs": []
    },
    {
      "cell_type": "code",
      "metadata": {
        "id": "-YZrm1ANfTO8"
      },
      "source": [
        "##"
      ],
      "execution_count": null,
      "outputs": []
    },
    {
      "cell_type": "code",
      "metadata": {
        "id": "h6dQNkThfTO9",
        "outputId": "c7397b8a-8e93-4c6d-99a7-a11e17c88ef6"
      },
      "source": [
        "#checando a existência das tabelas\n",
        "\n",
        "import mysql.connector\n",
        "\n",
        "mydb = mysql.connector.connect(\n",
        "   host=\"localhost\",\n",
        "  user=\"root\",\n",
        "  password=\"1234\",\n",
        "  database=\"spotify\"\n",
        ")\n",
        "\n",
        "mycursor = mydb.cursor()\n",
        "\n",
        "mycursor.execute(\"SHOW TABLES\") #QUERY SQL\n",
        "\n",
        "for x in mycursor:\n",
        "  print(x)"
      ],
      "execution_count": null,
      "outputs": [
        {
          "output_type": "stream",
          "text": [
            "('artists',)\n",
            "('customers',)\n",
            "('employees',)\n"
          ],
          "name": "stdout"
        }
      ]
    },
    {
      "cell_type": "code",
      "metadata": {
        "id": "z5XLZUUd8-m6"
      },
      "source": [
        "\n",
        "###"
      ],
      "execution_count": null,
      "outputs": []
    },
    {
      "cell_type": "code",
      "metadata": {
        "id": "Bhqb_3M3fTPA"
      },
      "source": [
        "\n",
        "# CRIAR TABELA PLAYLISTS/playlists\n",
        "\n",
        "import mysql.connector\n",
        "\n",
        "mydb = mysql.connector.connect(\n",
        "  host=\"localhost\",\n",
        "  user=\"root\",\n",
        "  password=\"1234\",\n",
        "  database=\"spotify\"\n",
        ")\n",
        "\n",
        "mycursor = mydb.cursor()\n",
        "\n",
        "mycursor.execute(\"CREATE TABLE playlists (playlist_id INT AUTO_INCREMENT PRIMARY KEY, costumer_id INT, song_id INT , date_added DATE, position_number INT)\") # QUERY SQL\n",
        "\n",
        "\n"
      ],
      "execution_count": null,
      "outputs": []
    },
    {
      "cell_type": "code",
      "metadata": {
        "id": "FgnybN4ZfTPC"
      },
      "source": [
        "###\n",
        "\n"
      ],
      "execution_count": null,
      "outputs": []
    },
    {
      "cell_type": "code",
      "metadata": {
        "id": "OB9hBM9-9EU6"
      },
      "source": [
        "# CRIAR TABELA DISCOS/albums\n",
        "\n",
        "import mysql.connector\n",
        "\n",
        "mydb = mysql.connector.connect(\n",
        "   host=\"localhost\",\n",
        "  user=\"root\",\n",
        "  password=\"1234\",\n",
        "  database=\"spotify\"\n",
        ")\n",
        "\n",
        "mycursor = mydb.cursor()\n",
        "\n",
        "mycursor.execute(\"CREATE TABLE albums (album_id INT AUTO_INCREMENT PRIMARY KEY, artist_id int, title VARCHAR(100), year_of_release DATE)\")\n",
        "\n"
      ],
      "execution_count": null,
      "outputs": []
    },
    {
      "cell_type": "code",
      "metadata": {
        "id": "xMgJF-gpfTPE"
      },
      "source": [
        "####"
      ],
      "execution_count": null,
      "outputs": []
    },
    {
      "cell_type": "code",
      "metadata": {
        "id": "qMHR2egYfTPI"
      },
      "source": [
        "# CRIAR TABELA musicas/songs\n",
        "\n",
        "import mysql.connector\n",
        "\n",
        "mydb = mysql.connector.connect(\n",
        "   host=\"localhost\",\n",
        "  user=\"root\",\n",
        "  password=\"1234\",\n",
        "  database=\"spotify\"\n",
        ")\n",
        "\n",
        "mycursor = mydb.cursor()\n",
        "\n",
        "mycursor.execute(\"CREATE TABLE songs (song_id INT AUTO_INCREMENT PRIMARY KEY, album_id int, song_title VARCHAR(100), track_number INT, song_length VARCHAR(15))\")\n",
        "\n",
        "\n"
      ],
      "execution_count": null,
      "outputs": []
    },
    {
      "cell_type": "code",
      "metadata": {
        "id": "A0r_eeyufTPJ"
      },
      "source": [
        "###"
      ],
      "execution_count": null,
      "outputs": []
    },
    {
      "cell_type": "code",
      "metadata": {
        "id": "s6QGsWOm9HxS"
      },
      "source": [
        "# SUA VEZ: POPULAR DADOS"
      ],
      "execution_count": null,
      "outputs": []
    },
    {
      "cell_type": "code",
      "metadata": {
        "id": "Y6RZX_SqfTPM"
      },
      "source": [
        "#código para deletar tabela\n",
        "\n",
        "import mysql.connector\n",
        "\n",
        "mydb = mysql.connector.connect(\n",
        "   host=\"localhost\",\n",
        "  user=\"root\",\n",
        "  password=\"1234\",\n",
        "  database=\"spotify\"\n",
        ")\n",
        "\n",
        "mycursor = mydb.cursor()\n",
        "\n",
        "sql = \"DROP TABLE nome_tabela\"\n",
        "\n",
        "mycursor.execute(sql)"
      ],
      "execution_count": null,
      "outputs": []
    },
    {
      "cell_type": "code",
      "metadata": {
        "id": "til0zwPffTPN"
      },
      "source": [
        ""
      ],
      "execution_count": null,
      "outputs": []
    },
    {
      "cell_type": "code",
      "metadata": {
        "id": "M-fjrrXnfTPO",
        "outputId": "35faf9b3-9566-4ddc-90a1-b2fe750a532f"
      },
      "source": [
        "#inserindo 1 registro\n",
        "import mysql.connector\n",
        "\n",
        "mydb = mysql.connector.connect(\n",
        "   host=\"localhost\",\n",
        "  user=\"root\",\n",
        "  password=\"1234\",\n",
        "  database=\"spotify\"\n",
        ")\n",
        "\n",
        "mycursor = mydb.cursor()\n",
        "\n",
        "sql = \"INSERT INTO customers (name, address) VALUES (%s, %s)\"\n",
        "val = (\"John\", \"Highway 21\")\n",
        "mycursor.execute(sql, val)\n",
        "\n",
        "mydb.commit()\n",
        "\n",
        "print(mycursor.rowcount, \"record inserted.\")\n",
        "\n",
        "#conta as linhas que foram inseridas, no caso, 1 linha inserida..."
      ],
      "execution_count": null,
      "outputs": [
        {
          "output_type": "stream",
          "text": [
            "1 record inserted.\n"
          ],
          "name": "stdout"
        }
      ]
    },
    {
      "cell_type": "code",
      "metadata": {
        "id": "5W7tGm_hfTPT"
      },
      "source": [
        "###"
      ],
      "execution_count": null,
      "outputs": []
    },
    {
      "cell_type": "code",
      "metadata": {
        "id": "rw3cItvHfTPV",
        "outputId": "592f0857-0a73-4fa1-dde9-cea472ee74fb"
      },
      "source": [
        "# retornando ID \n",
        "import mysql.connector\n",
        "\n",
        "mydb = mysql.connector.connect(\n",
        "   host=\"localhost\",\n",
        "  user=\"root\",\n",
        "  password=\"1234\",\n",
        "  database=\"spotify\"\n",
        ")\n",
        "\n",
        "mycursor = mydb.cursor()\n",
        "\n",
        "sql = \"INSERT INTO customers (name, address) VALUES (%s, %s)\"\n",
        "val = (\"Michelle\", \"Blue Village\")\n",
        "mycursor.execute(sql, val)\n",
        "\n",
        "mydb.commit()\n",
        "\n",
        "print(\"1 record inserted, ID:\", mycursor.lastrowid)\n",
        "\n",
        "#retorna a posição da inserção (contagem do ID)..."
      ],
      "execution_count": null,
      "outputs": [
        {
          "output_type": "stream",
          "text": [
            "1 record inserted, ID: 2\n"
          ],
          "name": "stdout"
        }
      ]
    },
    {
      "cell_type": "code",
      "metadata": {
        "id": "aR8f7tKZfTPX"
      },
      "source": [
        "###\n",
        "\n",
        "\n"
      ],
      "execution_count": null,
      "outputs": []
    },
    {
      "cell_type": "code",
      "metadata": {
        "id": "8JrHQ22efTPb",
        "outputId": "c1451248-90bf-4462-ef80-705abdf317c8"
      },
      "source": [
        "#select\n",
        "\n",
        "import mysql.connector\n",
        "\n",
        "mydb = mysql.connector.connect(\n",
        "   host=\"localhost\",\n",
        "  user=\"root\",\n",
        "  password=\"1234\",\n",
        "  database=\"spotify\"\n",
        ")\n",
        "\n",
        "mycursor = mydb.cursor()\n",
        "\n",
        "mycursor.execute(\"SELECT * FROM customers\")\n",
        "\n",
        "myresult = mycursor.fetchall()\n",
        "\n",
        "for x in myresult:\n",
        "  print(x)\n",
        "\n",
        "#listando todos os clientes"
      ],
      "execution_count": null,
      "outputs": [
        {
          "output_type": "stream",
          "text": [
            "('John', 'Highway 21', 1)\n",
            "('Michelle', 'Blue Village', 2)\n"
          ],
          "name": "stdout"
        }
      ]
    },
    {
      "cell_type": "code",
      "metadata": {
        "id": "h2A8XuUEfTPe"
      },
      "source": [
        "####\n",
        "\n",
        "\n"
      ],
      "execution_count": null,
      "outputs": []
    },
    {
      "cell_type": "code",
      "metadata": {
        "id": "VmgcWTmqfTPf",
        "outputId": "594558c1-e98a-4e5c-dd99-c1cb46fdaa80"
      },
      "source": [
        "# Colunas\n",
        "import mysql.connector\n",
        "\n",
        "mydb = mysql.connector.connect(\n",
        "   host=\"localhost\",\n",
        "  user=\"root\",\n",
        "  password=\"1234\",\n",
        "  database=\"spotify\"\n",
        ")\n",
        "\n",
        "mycursor = mydb.cursor()\n",
        "\n",
        "mycursor.execute(\"SELECT name, address FROM customers\")\n",
        "\n",
        "myresult = mycursor.fetchall()\n",
        "\n",
        "for x in myresult:\n",
        "  print(x)"
      ],
      "execution_count": null,
      "outputs": [
        {
          "output_type": "stream",
          "text": [
            "('John', 'Highway 21')\n",
            "('Michelle', 'Blue Village')\n"
          ],
          "name": "stdout"
        }
      ]
    },
    {
      "cell_type": "code",
      "metadata": {
        "id": "oTNXtKlbfTPh"
      },
      "source": [
        "#####\n",
        "\n",
        "\n"
      ],
      "execution_count": null,
      "outputs": []
    },
    {
      "cell_type": "code",
      "metadata": {
        "id": "STgNrqq3fTPj",
        "outputId": "cbe56065-8f38-4cd4-f09d-00e659633435"
      },
      "source": [
        "\n",
        "### utilizando o where\n",
        "\n",
        "import mysql.connector\n",
        "\n",
        "mydb = mysql.connector.connect(\n",
        "   host=\"localhost\",\n",
        "  user=\"root\",\n",
        "  password=\"1234\",\n",
        "  database=\"spotify\"\n",
        ")\n",
        "\n",
        "mycursor = mydb.cursor()\n",
        "\n",
        "sql = \"SELECT * FROM customers WHERE address ='Highway 21'\"\n",
        "\n",
        "mycursor.execute(sql)\n",
        "\n",
        "myresult = mycursor.fetchall()\n",
        "\n",
        "for x in myresult:\n",
        "  print(x)"
      ],
      "execution_count": null,
      "outputs": [
        {
          "output_type": "stream",
          "text": [
            "('John', 'Highway 21', 1)\n"
          ],
          "name": "stdout"
        }
      ]
    },
    {
      "cell_type": "code",
      "metadata": {
        "id": "kTUzZo6wfTPk"
      },
      "source": [
        "####"
      ],
      "execution_count": null,
      "outputs": []
    },
    {
      "cell_type": "code",
      "metadata": {
        "id": "tl5lSI7GfTPm",
        "outputId": "82926240-7ddd-4c09-d98a-ce0abb2e164f"
      },
      "source": [
        "# Múltiplos registros\n",
        "import mysql.connector\n",
        "\n",
        "mydb = mysql.connector.connect(\n",
        "   host=\"localhost\",\n",
        "  user=\"root\",\n",
        "  password=\"1234\",\n",
        "  database=\"spotify\"\n",
        ")\n",
        "\n",
        "mycursor = mydb.cursor()\n",
        "\n",
        "sql = \"INSERT INTO customers (name, address) VALUES (%s, %s)\"\n",
        "val = [\n",
        "  ('Peter', 'Lowstreet 4'),\n",
        "  ('Amy', 'Apple st 652'),\n",
        "  ('Hannah', 'Mountain 21'),\n",
        "  ('Michael', 'Valley 345'),\n",
        "  ('Sandy', 'Ocean blvd 2'),\n",
        "  ('Betty', 'Green Grass 1'),\n",
        "  ('Richard', 'Sky st 331'),\n",
        "  ('Susan', 'One way 98'),\n",
        "  ('Vicky', 'Yellow Garden 2'),\n",
        "  ('Ben', 'Park Lane 38'),\n",
        "  ('William', 'Central st 954'),\n",
        "  ('Chuck', 'Main Road 989'),\n",
        "  ('Viola', 'Sideway 1633')\n",
        "]\n",
        "\n",
        "mycursor.executemany(sql, val)\n",
        "\n",
        "mydb.commit()\n",
        "\n",
        "print(mycursor.rowcount, \"was inserted.\")"
      ],
      "execution_count": null,
      "outputs": [
        {
          "output_type": "stream",
          "text": [
            "13 was inserted.\n"
          ],
          "name": "stdout"
        }
      ]
    },
    {
      "cell_type": "code",
      "metadata": {
        "id": "qdqizaABfTPo"
      },
      "source": [
        "####\n",
        "\n",
        "\n"
      ],
      "execution_count": null,
      "outputs": []
    },
    {
      "cell_type": "code",
      "metadata": {
        "id": "DCkpZnz5fTPq",
        "outputId": "b52f80bc-7768-4cff-de88-10b64ddd9380"
      },
      "source": [
        "#order by\n",
        "\n",
        "import mysql.connector\n",
        "\n",
        "mydb = mysql.connector.connect(\n",
        "   host=\"localhost\",\n",
        "  user=\"root\",\n",
        "  password=\"1234\",\n",
        "  database=\"spotify\"\n",
        ")\n",
        "\n",
        "mycursor = mydb.cursor()\n",
        "\n",
        "sql = \"SELECT * FROM customers ORDER BY name\"\n",
        "\n",
        "mycursor.execute(sql)\n",
        "\n",
        "myresult = mycursor.fetchall()\n",
        "\n",
        "for x in myresult:\n",
        "  print(x)\n",
        "\n",
        "##ordenando por ordem alfabética os nomes dos clientes"
      ],
      "execution_count": null,
      "outputs": [
        {
          "output_type": "stream",
          "text": [
            "('Amy', 'Apple st 652', 4)\n",
            "('Ben', 'Park Lane 38', 12)\n",
            "('Betty', 'Green Grass 1', 8)\n",
            "('Chuck', 'Main Road 989', 14)\n",
            "('Hannah', 'Mountain 21', 5)\n",
            "('John', 'Highway 21', 1)\n",
            "('Michael', 'Valley 345', 6)\n",
            "('Michelle', 'Blue Village', 2)\n",
            "('Peter', 'Lowstreet 4', 3)\n",
            "('Richard', 'Sky st 331', 9)\n",
            "('Sandy', 'Ocean blvd 2', 7)\n",
            "('Susan', 'One way 98', 10)\n",
            "('Vicky', 'Yellow Garden 2', 11)\n",
            "('Viola', 'Sideway 1633', 15)\n",
            "('William', 'Central st 954', 13)\n"
          ],
          "name": "stdout"
        }
      ]
    },
    {
      "cell_type": "code",
      "metadata": {
        "id": "R_3W_cEnfTPr"
      },
      "source": [
        "###\n",
        "\n"
      ],
      "execution_count": null,
      "outputs": []
    },
    {
      "cell_type": "code",
      "metadata": {
        "id": "IIsyTAoPfTPs",
        "outputId": "ee716345-f570-47d8-8d2a-2adcb6788a71"
      },
      "source": [
        "##usando delete para deletar um registro\n",
        "\n",
        "import mysql.connector\n",
        "\n",
        "mydb = mysql.connector.connect(\n",
        "   host=\"localhost\",\n",
        "  user=\"root\",\n",
        "  password=\"1234\",\n",
        "  database=\"spotify\"\n",
        ")\n",
        "\n",
        "mycursor = mydb.cursor()\n",
        "\n",
        "sql = \"DELETE FROM customers WHERE address = 'Mountain 21'\"\n",
        "\n",
        "mycursor.execute(sql)\n",
        "\n",
        "mydb.commit()\n",
        "\n",
        "print(mycursor.rowcount, \"record(s) deleted\")\n",
        "\n"
      ],
      "execution_count": null,
      "outputs": [
        {
          "output_type": "stream",
          "text": [
            "1 record(s) deleted\n"
          ],
          "name": "stdout"
        }
      ]
    },
    {
      "cell_type": "code",
      "metadata": {
        "id": "Q0X0BiXffTPu"
      },
      "source": [
        "###\n",
        "\n"
      ],
      "execution_count": null,
      "outputs": []
    },
    {
      "cell_type": "code",
      "metadata": {
        "id": "UyCyCghtfTPv"
      },
      "source": [
        "## atualizando endereço UPDATE\n",
        "\n",
        "import mysql.connector\n",
        "\n",
        "mydb = mysql.connector.connect(\n",
        "   host=\"localhost\",\n",
        "  user=\"root\",\n",
        "  password=\"1234\",\n",
        "  database=\"spotify\"\n",
        ")\n",
        "\n",
        "mycursor = mydb.cursor()\n",
        "\n",
        "sql = \"UPDATE customers SET address = 'Canyon 123' WHERE address = 'Valley 345'\"\n",
        "\n",
        "mycursor.execute(sql)\n",
        "\n",
        "mydb.commit()\n",
        "\n",
        "print(mycursor.rowcount, \"record(s) affected\")"
      ],
      "execution_count": null,
      "outputs": []
    },
    {
      "cell_type": "code",
      "metadata": {
        "id": "m_rHkWblfTPw"
      },
      "source": [
        "##"
      ],
      "execution_count": null,
      "outputs": []
    },
    {
      "cell_type": "code",
      "metadata": {
        "id": "IwINhtEJfTPx",
        "outputId": "2f25b21d-28e0-4d71-c135-515118cee239"
      },
      "source": [
        "# Múltiplos registros (INSERÇÃO NA TABELA EMPLOYEES)\n",
        "\n",
        "import mysql.connector\n",
        "\n",
        "mydb = mysql.connector.connect(\n",
        "   host=\"localhost\",\n",
        "  user=\"root\",\n",
        "  password=\"1234\",\n",
        "  database=\"spotify\"\n",
        ")\n",
        "\n",
        "mycursor = mydb.cursor()\n",
        "\n",
        "sql = \"INSERT INTO employees (name, address) VALUES (%s, %s)\"\n",
        "val = [\n",
        "  ('Hulk', 'Green Street 1000'),\n",
        "  ('Thor', 'Thunder Avenue 2000 '),\n",
        "  ('IronMan', 'V Tower 3000'),\n",
        "  ('Captain America', 'unknow street 4000'),\n",
        "  ('AntMan', 'anywhere 5000'),\n",
        "]\n",
        "\n",
        "mycursor.executemany(sql, val)\n",
        "\n",
        "mydb.commit()\n",
        "\n",
        "print(mycursor.rowcount, \"was inserted.\")"
      ],
      "execution_count": null,
      "outputs": [
        {
          "output_type": "stream",
          "text": [
            "5 was inserted.\n"
          ],
          "name": "stdout"
        }
      ]
    },
    {
      "cell_type": "code",
      "metadata": {
        "id": "2-KbQyH5fTPy",
        "outputId": "1d91279d-cbcf-4acc-cf56-68a98ab913fb"
      },
      "source": [
        "# Múltiplos registros (INSERÇÃO NA TABELA ARTISTS)\n",
        "\n",
        "import mysql.connector\n",
        "\n",
        "mydb = mysql.connector.connect(\n",
        "   host=\"localhost\",\n",
        "  user=\"root\",\n",
        "  password=\"1234\",\n",
        "  database=\"spotify\"\n",
        ")\n",
        "\n",
        "mycursor = mydb.cursor()\n",
        "\n",
        "sql = \"INSERT INTO artists (artist_name, biography) VALUES (%s, %s)\"\n",
        "val = [\n",
        "  ('The Doors', 'The Doors foi uma banda de rock norte-americana, fundada em 1965, em Los Angeles, Califórnia. O grupo era composto por Jim Morrison (voz), Ray Manzarek (teclados), Robby Krieger (guitarra) e John Densmore (bateria). '),\n",
        "  ('Aerosmith', 'O Aerosmith é uma banda de hard rock estadunidense, formada em Boston, Massachusetts no início dos anos 70, tendo desfrutado de grande popularidade durante... '),\n",
        "  ('Soundgarden', 'foi uma banda de rock norte-americana formada em 1984, em Seattle, Washington e que, ao lado de Nirvana, Alice in Chains e Pearl Jam, constituiu-se'),\n",
        "  ('Guns', 'O Guns and Roses é uma das bandas estadunidenses de Hard Rock mais controversas e populares fundada em 1985. '),\n",
        "]\n",
        "\n",
        "mycursor.executemany(sql, val)\n",
        "\n",
        "mydb.commit()\n",
        "\n",
        "print(mycursor.rowcount, \"was inserted.\")"
      ],
      "execution_count": null,
      "outputs": [
        {
          "output_type": "stream",
          "text": [
            "4 was inserted.\n"
          ],
          "name": "stdout"
        }
      ]
    },
    {
      "cell_type": "code",
      "metadata": {
        "id": "YKW5lWV7fTQF",
        "outputId": "3fe3eef7-338e-47e9-a5d5-62b0254910c0"
      },
      "source": [
        "\n",
        "\n",
        "\n",
        "import mysql.connector\n",
        "\n",
        "mydb = mysql.connector.connect(\n",
        "   host=\"localhost\",\n",
        "  user=\"root\",\n",
        "  password=\"1234\",\n",
        "  database=\"spotify\"\n",
        ")\n",
        "\n",
        "mycursor = mydb.cursor()\n",
        "\n",
        "sql = \"INSERT INTO playlists (costumer_id, song_id, date_added, position_number) VALUES (%s, %s, %s, %s)\"\n",
        "val = [\n",
        "  ('3', '4', '2020-12-20','1'),\n",
        "  ('12', '1', '2020-12-25','5'),\n",
        "  ('1', '2', '2020-11-20','4'),\n",
        "  ('7', '3', '2020-08-10','3'),\n",
        "  ('9', '4', '2020-12-30','2'),\n",
        "]\n",
        "\n",
        "mycursor.executemany(sql, val)\n",
        "\n",
        "mydb.commit()\n",
        "\n",
        "print(mycursor.rowcount, \"was inserted.\")"
      ],
      "execution_count": null,
      "outputs": [
        {
          "output_type": "stream",
          "text": [
            "5 was inserted.\n"
          ],
          "name": "stdout"
        }
      ]
    },
    {
      "cell_type": "code",
      "metadata": {
        "id": "kRpGTW7xfTQJ",
        "outputId": "454c10d2-153f-4127-f800-a69cd2d0ddfb"
      },
      "source": [
        "#order by\n",
        "\n",
        "import mysql.connector\n",
        "\n",
        "mydb = mysql.connector.connect(\n",
        "   host=\"localhost\",\n",
        "  user=\"root\",\n",
        "  password=\"1234\",\n",
        "  database=\"spotify\"\n",
        ")\n",
        "\n",
        "mycursor = mydb.cursor()\n",
        "\n",
        "sql = \"SELECT artist_name FROM artists ORDER BY artist_name\"\n",
        "\n",
        "mycursor.execute(sql)\n",
        "\n",
        "myresult = mycursor.fetchall()\n",
        "\n",
        "for x in myresult:\n",
        "  print(x)\n",
        "\n",
        "##ordenando por ordem alfabética os nomes dos clientes"
      ],
      "execution_count": null,
      "outputs": [
        {
          "output_type": "stream",
          "text": [
            "('Aerosmith',)\n",
            "('Guns',)\n",
            "('Soundgarden',)\n",
            "('The Doors',)\n"
          ],
          "name": "stdout"
        }
      ]
    },
    {
      "cell_type": "code",
      "metadata": {
        "id": "7ty2eOHPfTQT"
      },
      "source": [
        ""
      ],
      "execution_count": null,
      "outputs": []
    }
  ]
}